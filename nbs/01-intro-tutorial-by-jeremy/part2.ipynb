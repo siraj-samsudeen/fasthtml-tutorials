{
 "cells": [
  {
   "cell_type": "code",
   "execution_count": 22,
   "metadata": {},
   "outputs": [],
   "source": [
    "# | default_exp 01-intro-tutorial-by-jeremy/part2"
   ]
  },
  {
   "cell_type": "code",
   "execution_count": 23,
   "metadata": {},
   "outputs": [],
   "source": [
    "# | export\n",
    "from fasthtml.common import *"
   ]
  },
  {
   "cell_type": "code",
   "execution_count": 24,
   "metadata": {},
   "outputs": [],
   "source": [
    "from fasthtml.jupyter import JupyUvi, HTMX\n",
    "from fasthtml_tutorials.core import start_server, stop_server"
   ]
  },
  {
   "cell_type": "markdown",
   "metadata": {},
   "source": [
    "### Navigate to another route"
   ]
  },
  {
   "cell_type": "code",
   "execution_count": 25,
   "metadata": {},
   "outputs": [],
   "source": [
    "# | export\n",
    "app, rt = fast_app(live=True)"
   ]
  },
  {
   "cell_type": "code",
   "execution_count": 26,
   "metadata": {},
   "outputs": [
    {
     "data": {
      "text/html": [
       "\n",
       "<script>\n",
       "document.body.addEventListener('htmx:configRequest', (event) => {\n",
       "    if(event.detail.path.includes('://')) return;\n",
       "    htmx.config.selfRequestsOnly=false;\n",
       "    event.detail.path = `${location.protocol}//${location.hostname}:8000${event.detail.path}`;\n",
       "});\n",
       "</script>"
      ],
      "text/plain": [
       "<IPython.core.display.HTML object>"
      ]
     },
     "metadata": {},
     "output_type": "display_data"
    }
   ],
   "source": [
    "start_server(app)"
   ]
  },
  {
   "cell_type": "code",
   "execution_count": 27,
   "metadata": {},
   "outputs": [
    {
     "data": {
      "text/markdown": [
       "```html\n",
       "<p>\n",
       "<a href=\"/change\">Link</a></p>\n",
       "\n",
       "```"
      ],
      "text/plain": [
       "p((a(('Link',),{'href': '/change'}),),{})"
      ]
     },
     "execution_count": 27,
     "metadata": {},
     "output_type": "execute_result"
    }
   ],
   "source": [
    "P(A(\"Link\", href=\"/change\"))"
   ]
  },
  {
   "cell_type": "code",
   "execution_count": 28,
   "metadata": {},
   "outputs": [
    {
     "data": {
      "text/html": [
       "<p>\n",
       "<a href=\"/change\">Link</a></p>\n"
      ],
      "text/plain": [
       "<IPython.core.display.HTML object>"
      ]
     },
     "metadata": {},
     "output_type": "display_data"
    }
   ],
   "source": [
    "show(P(A(\"Link\", href=\"/change\")))"
   ]
  },
  {
   "cell_type": "code",
   "execution_count": 29,
   "metadata": {},
   "outputs": [
    {
     "data": {
      "text/html": [
       "<title>Greeting</title>\n",
       "<main class=\"container\">  <h1>Greeting</h1>\n",
       "  <div>\n",
       "    <p>Hello  World!</p>\n",
       "  </div>\n",
       "  <p>\n",
       "<a href=\"/change\">Link</a>  </p>\n",
       "</main>"
      ],
      "text/plain": [
       "<IPython.core.display.HTML object>"
      ]
     },
     "metadata": {},
     "output_type": "display_data"
    }
   ],
   "source": [
    "show(Titled(\"Greeting\", Div(P(\"Hello  World!\")), P(A(\"Link\", href=\"/change\"))))"
   ]
  },
  {
   "cell_type": "code",
   "execution_count": 30,
   "metadata": {},
   "outputs": [],
   "source": [
    "# | export\n",
    "@rt(\"/\")\n",
    "def get():\n",
    "    return Titled(\"Greeting\", Div(P(\"Hello  World!\")), P(A(\"Link\", href=\"/change\")))"
   ]
  },
  {
   "cell_type": "markdown",
   "metadata": {},
   "source": [
    "#### Seems like a bug:\n",
    "when trying to redefine the same route with a different convention the content of the route is not updating as you can see on the `app.routes` the \"/change\" route is added twice and it is picking up the first route instead of latest route.\n",
    "\n",
    "is it supposed to have duplicate route with same method? or is it a bug?.  "
   ]
  },
  {
   "cell_type": "code",
   "execution_count": 31,
   "metadata": {},
   "outputs": [],
   "source": [
    "# | export\n",
    "@rt(\"/change\")\n",
    "def get():\n",
    "    return Titled(\"Change\", Div(P(\"Change is good!\")), P(A(\"Back\", href=\"/\")))"
   ]
  },
  {
   "cell_type": "code",
   "execution_count": 32,
   "metadata": {},
   "outputs": [
    {
     "data": {
      "text/plain": [
       "[WebSocketRoute(path='/live-reload', name='live_reload_ws'),\n",
       " Route(path='/{fname:path}.{ext:static}', name='static_route_exts_get', methods=['GET', 'HEAD', 'POST']),\n",
       " Route(path='/', name='get', methods=['GET', 'HEAD']),\n",
       " Route(path='/change', name='get', methods=['GET', 'HEAD'])]"
      ]
     },
     "execution_count": 32,
     "metadata": {},
     "output_type": "execute_result"
    }
   ],
   "source": [
    "app.routes"
   ]
  },
  {
   "cell_type": "code",
   "execution_count": 33,
   "metadata": {},
   "outputs": [],
   "source": [
    "# this also works now - you don't need to use ONLY the HTTP verbs\n",
    "@rt(\"/change\")\n",
    "def change():\n",
    "    return Titled(\n",
    "        \"Change\",\n",
    "        Div(P(\"Change is good! - Without specifying the HTTP verb as 'get()'\")),\n",
    "        P(A(\"Back\", href=\"/\")),\n",
    "    )"
   ]
  },
  {
   "cell_type": "code",
   "execution_count": 34,
   "metadata": {},
   "outputs": [
    {
     "data": {
      "text/plain": [
       "[WebSocketRoute(path='/live-reload', name='live_reload_ws'),\n",
       " Route(path='/{fname:path}.{ext:static}', name='static_route_exts_get', methods=['GET', 'HEAD', 'POST']),\n",
       " Route(path='/', name='get', methods=['GET', 'HEAD']),\n",
       " Route(path='/change', name='get', methods=['GET', 'HEAD']),\n",
       " Route(path='/change', name='change', methods=['GET', 'HEAD', 'POST'])]"
      ]
     },
     "execution_count": 34,
     "metadata": {},
     "output_type": "execute_result"
    }
   ],
   "source": [
    "app.routes"
   ]
  },
  {
   "cell_type": "code",
   "execution_count": 35,
   "metadata": {},
   "outputs": [],
   "source": [
    "# If the route is the same as the function name, you can skip specifying the route as a string\n",
    "@rt\n",
    "def change():\n",
    "    return Titled(\n",
    "        \"Change\",\n",
    "        Div(P(\"Change is good! - skip specifying the route as '/change'\")),\n",
    "        P(A(\"Back\", href=\"/\")),\n",
    "    )"
   ]
  },
  {
   "cell_type": "code",
   "execution_count": 36,
   "metadata": {},
   "outputs": [],
   "source": [
    "# Now you can link to the python function rather than using a string route - easy to navigate in your Editor\n",
    "@rt(\"/\")\n",
    "def get():\n",
    "    return Titled(\"Greeting\", Div(P(\"Hello  World!\")), P(A(\"Link\", href=change)))"
   ]
  },
  {
   "cell_type": "code",
   "execution_count": 37,
   "metadata": {},
   "outputs": [
    {
     "data": {
      "text/html": [
       "<a href=\"http://localhost:8000\" target=\"_blank\">Open in new tab</a>"
      ],
      "text/plain": [
       "<IPython.core.display.HTML object>"
      ]
     },
     "metadata": {},
     "output_type": "display_data"
    },
    {
     "data": {
      "text/html": [
       "<iframe src=\"http://localhost:8000\" style=\"width: 100%; height: auto; border: none;\" onload=\"{\n",
       "        let frame = this;\n",
       "        window.addEventListener('message', function(e) {\n",
       "            if (e.source !== frame.contentWindow) return; // Only proceed if the message is from this iframe\n",
       "            if (e.data.height) frame.style.height = (e.data.height+1) + 'px';\n",
       "        }, false);\n",
       "    }\" allow=\"accelerometer; autoplay; camera; clipboard-read; clipboard-write; display-capture; encrypted-media; fullscreen; gamepad; geolocation; gyroscope; hid; identity-credentials-get; idle-detection; magnetometer; microphone; midi; payment; picture-in-picture; publickey-credentials-get; screen-wake-lock; serial; usb; web-share; xr-spatial-tracking\"></iframe> "
      ],
      "text/plain": [
       "<IPython.core.display.HTML object>"
      ]
     },
     "execution_count": 37,
     "metadata": {},
     "output_type": "execute_result"
    }
   ],
   "source": [
    "HTMX(link=True)"
   ]
  },
  {
   "cell_type": "code",
   "execution_count": 38,
   "metadata": {},
   "outputs": [],
   "source": [
    "stop_server()"
   ]
  },
  {
   "cell_type": "code",
   "execution_count": 39,
   "metadata": {},
   "outputs": [],
   "source": [
    "# | export\n",
    "serve()"
   ]
  },
  {
   "cell_type": "code",
   "execution_count": 40,
   "metadata": {},
   "outputs": [],
   "source": [
    "# | hide\n",
    "import nbdev\n",
    "\n",
    "nbdev.nbdev_export()"
   ]
  }
 ],
 "metadata": {
  "kernelspec": {
   "display_name": ".venv",
   "language": "python",
   "name": "python3"
  },
  "language_info": {
   "codemirror_mode": {
    "name": "ipython",
    "version": 3
   },
   "file_extension": ".py",
   "mimetype": "text/x-python",
   "name": "python",
   "nbconvert_exporter": "python",
   "pygments_lexer": "ipython3",
   "version": "3.12.3"
  }
 },
 "nbformat": 4,
 "nbformat_minor": 2
}
