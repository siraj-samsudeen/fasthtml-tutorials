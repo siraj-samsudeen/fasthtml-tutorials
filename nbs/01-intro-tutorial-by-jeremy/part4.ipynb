{
 "cells": [
  {
   "cell_type": "code",
   "execution_count": 1,
   "metadata": {},
   "outputs": [],
   "source": [
    "# | default_exp 01-intro-tutorial-by-jeremy/part4"
   ]
  },
  {
   "cell_type": "code",
   "execution_count": 2,
   "metadata": {},
   "outputs": [],
   "source": [
    "# | export\n",
    "from fasthtml.common import *"
   ]
  },
  {
   "cell_type": "code",
   "execution_count": 3,
   "metadata": {},
   "outputs": [],
   "source": [
    "from fasthtml.jupyter import JupyUvi, HTMX\n",
    "from fasthtml_tutorials.core import start_server, stop_server, show_with_pico"
   ]
  },
  {
   "cell_type": "markdown",
   "metadata": {},
   "source": [
    "### Basic Todo Application"
   ]
  },
  {
   "cell_type": "code",
   "execution_count": 4,
   "metadata": {},
   "outputs": [
    {
     "data": {
      "text/html": [
       "<link rel=\"stylesheet\" href=\"https://cdn.jsdelivr.net/npm/@picocss/pico@latest/css/pico.conditional.min.css\">\n",
       "<style>:root { --pico-font-size: 100%; }</style>\n"
      ],
      "text/plain": [
       "<IPython.core.display.HTML object>"
      ]
     },
     "metadata": {},
     "output_type": "display_data"
    }
   ],
   "source": [
    "# This is to render the pico component with styling in the output cells\n",
    "# if your using VS code with dark theme then change it to light colored theme to properly see the outputs\n",
    "show(picocondlink)"
   ]
  },
  {
   "cell_type": "code",
   "execution_count": 5,
   "metadata": {},
   "outputs": [
    {
     "data": {
      "application/javascript": "var sel = '.cell-output, .output_area';\ndocument.querySelectorAll(sel).forEach(e => e.classList.add('pico'));\n\nnew MutationObserver(ms => {\n  ms.forEach(m => {\n    m.addedNodes.forEach(n => {\n      if (n.nodeType === 1) {\n        var nc = n.classList;\n        if (nc && (nc.contains('cell-output') || nc.contains('output_area'))) nc.add('pico');\n        n.querySelectorAll(sel).forEach(e => e.classList.add('pico'));\n      }\n    });\n  });\n}).observe(document.body, { childList: true, subtree: true });",
      "text/plain": [
       "<IPython.core.display.Javascript object>"
      ]
     },
     "execution_count": 5,
     "metadata": {},
     "output_type": "execute_result"
    }
   ],
   "source": [
    "# To properly render the pico component, we need to add the \"pico\" class to every tag that is displayed in the output, and this is what this function does\n",
    "set_pico_cls()"
   ]
  },
  {
   "cell_type": "code",
   "execution_count": 6,
   "metadata": {},
   "outputs": [
    {
     "data": {
      "text/html": [
       "\n",
       "<script>\n",
       "document.body.addEventListener('htmx:configRequest', (event) => {\n",
       "    if(event.detail.path.includes('://')) return;\n",
       "    htmx.config.selfRequestsOnly=false;\n",
       "    event.detail.path = `${location.protocol}//${location.hostname}:8000${event.detail.path}`;\n",
       "});\n",
       "</script>"
      ],
      "text/plain": [
       "<IPython.core.display.HTML object>"
      ]
     },
     "metadata": {},
     "output_type": "display_data"
    }
   ],
   "source": [
    "app, rt = fast_app(live=True)\n",
    "start_server(app)"
   ]
  },
  {
   "cell_type": "code",
   "execution_count": 7,
   "metadata": {},
   "outputs": [
    {
     "data": {
      "text/html": [
       "\n",
       "<script>\n",
       "document.body.addEventListener('htmx:configRequest', (event) => {\n",
       "    if(event.detail.path.includes('://')) return;\n",
       "    htmx.config.selfRequestsOnly=false;\n",
       "    event.detail.path = `${location.protocol}//${location.hostname}:8000${event.detail.path}`;\n",
       "});\n",
       "</script>"
      ],
      "text/plain": [
       "<IPython.core.display.HTML object>"
      ]
     },
     "metadata": {},
     "output_type": "display_data"
    }
   ],
   "source": [
    "# In the tutorial jeremy changes the database file to `data/todos.db` in the end, but for best practices we are including it from the start.\n",
    "app, rt, todos, Todo = fast_app(\n",
    "    \"data/todos.db\", live=True, id=int, title=str, done=bool, pk=\"id\"\n",
    ")\n",
    "start_server(app)"
   ]
  },
  {
   "cell_type": "code",
   "execution_count": 8,
   "metadata": {},
   "outputs": [],
   "source": [
    "@rt(\"/\")\n",
    "def get():\n",
    "    items = todos()\n",
    "    return Titled(\n",
    "        \"Todos\",\n",
    "        Div(*items),\n",
    "    )"
   ]
  },
  {
   "cell_type": "code",
   "execution_count": 9,
   "metadata": {},
   "outputs": [],
   "source": [
    "@rt(\"/\")\n",
    "def get():\n",
    "    todos.insert(Todo(title=\"First todo\", done=False))\n",
    "    items = todos()\n",
    "    return Titled(\n",
    "        \"Todos\",\n",
    "        Div(*items),\n",
    "    )"
   ]
  },
  {
   "cell_type": "code",
   "execution_count": 10,
   "metadata": {},
   "outputs": [
    {
     "data": {
      "text/html": [
       "<a href=\"http://localhost:8000\" target=\"_blank\">Open in new tab</a>"
      ],
      "text/plain": [
       "<IPython.core.display.HTML object>"
      ]
     },
     "metadata": {},
     "output_type": "display_data"
    },
    {
     "data": {
      "text/html": [
       "<iframe src=\"http://localhost:8000\" style=\"width: 100%; height: auto; border: none;\" onload=\"{\n",
       "        let frame = this;\n",
       "        window.addEventListener('message', function(e) {\n",
       "            if (e.source !== frame.contentWindow) return; // Only proceed if the message is from this iframe\n",
       "            if (e.data.height) frame.style.height = (e.data.height+1) + 'px';\n",
       "        }, false);\n",
       "    }\" allow=\"accelerometer; autoplay; camera; clipboard-read; clipboard-write; display-capture; encrypted-media; fullscreen; gamepad; geolocation; gyroscope; hid; identity-credentials-get; idle-detection; magnetometer; microphone; midi; payment; picture-in-picture; publickey-credentials-get; screen-wake-lock; serial; usb; web-share; xr-spatial-tracking\"></iframe> "
      ],
      "text/plain": [
       "<IPython.core.display.HTML object>"
      ]
     },
     "execution_count": 10,
     "metadata": {},
     "output_type": "execute_result"
    }
   ],
   "source": [
    "# To add a new todo, we need to refresh the page\n",
    "HTMX(link=True)"
   ]
  },
  {
   "cell_type": "code",
   "execution_count": 11,
   "metadata": {},
   "outputs": [
    {
     "data": {
      "text/html": [
       "<title>Todos</title>\n",
       "<main class=\"container\">  <h1>Todos</h1>\n",
       "  <div></div>\n",
       "</main>"
      ],
      "text/plain": [
       "<IPython.core.display.HTML object>"
      ]
     },
     "metadata": {},
     "output_type": "display_data"
    }
   ],
   "source": [
    "items = todos()\n",
    "show(\n",
    "    Titled(\n",
    "        \"Todos\",\n",
    "        Div(*items),\n",
    "    )\n",
    ")"
   ]
  },
  {
   "cell_type": "code",
   "execution_count": 12,
   "metadata": {},
   "outputs": [
    {
     "data": {
      "text/html": [
       "<ul></ul>\n"
      ],
      "text/plain": [
       "<IPython.core.display.HTML object>"
      ]
     },
     "metadata": {},
     "output_type": "display_data"
    }
   ],
   "source": [
    "items = [Li(o) for o in todos()]\n",
    "show(Ul(*items))"
   ]
  },
  {
   "cell_type": "code",
   "execution_count": 13,
   "metadata": {},
   "outputs": [],
   "source": [
    "@rt(\"/\")\n",
    "def get():\n",
    "    todos.insert(Todo(title=\"Second todo\", done=False))\n",
    "    items = [Li(o) for o in todos()]\n",
    "    return Titled(\n",
    "        \"Todos\",\n",
    "        Ul(*items),\n",
    "    )"
   ]
  },
  {
   "cell_type": "code",
   "execution_count": 14,
   "metadata": {},
   "outputs": [
    {
     "data": {
      "text/html": [
       "<a href=\"http://localhost:8000\" target=\"_blank\">Open in new tab</a>"
      ],
      "text/plain": [
       "<IPython.core.display.HTML object>"
      ]
     },
     "metadata": {},
     "output_type": "display_data"
    },
    {
     "data": {
      "text/html": [
       "<iframe src=\"http://localhost:8000\" style=\"width: 100%; height: auto; border: none;\" onload=\"{\n",
       "        let frame = this;\n",
       "        window.addEventListener('message', function(e) {\n",
       "            if (e.source !== frame.contentWindow) return; // Only proceed if the message is from this iframe\n",
       "            if (e.data.height) frame.style.height = (e.data.height+1) + 'px';\n",
       "        }, false);\n",
       "    }\" allow=\"accelerometer; autoplay; camera; clipboard-read; clipboard-write; display-capture; encrypted-media; fullscreen; gamepad; geolocation; gyroscope; hid; identity-credentials-get; idle-detection; magnetometer; microphone; midi; payment; picture-in-picture; publickey-credentials-get; screen-wake-lock; serial; usb; web-share; xr-spatial-tracking\"></iframe> "
      ],
      "text/plain": [
       "<IPython.core.display.HTML object>"
      ]
     },
     "execution_count": 14,
     "metadata": {},
     "output_type": "execute_result"
    }
   ],
   "source": [
    "HTMX(link=True)"
   ]
  },
  {
   "cell_type": "code",
   "execution_count": 15,
   "metadata": {},
   "outputs": [
    {
     "data": {
      "text/html": [
       "\n",
       "<script>\n",
       "document.body.addEventListener('htmx:configRequest', (event) => {\n",
       "    if(event.detail.path.includes('://')) return;\n",
       "    htmx.config.selfRequestsOnly=false;\n",
       "    event.detail.path = `${location.protocol}//${location.hostname}:8000${event.detail.path}`;\n",
       "});\n",
       "</script>"
      ],
      "text/plain": [
       "<IPython.core.display.HTML object>"
      ]
     },
     "metadata": {},
     "output_type": "display_data"
    }
   ],
   "source": [
    "def render(todo):\n",
    "    return Li(todo.title)\n",
    "\n",
    "\n",
    "app, rt, todos, Todo = fast_app(\n",
    "    \"data/todos.db\",\n",
    "    live=True,\n",
    "    render=render,\n",
    "    id=int,\n",
    "    title=str,\n",
    "    done=bool,\n",
    "    pk=\"id\",\n",
    ")\n",
    "start_server(app)"
   ]
  },
  {
   "cell_type": "code",
   "execution_count": 16,
   "metadata": {},
   "outputs": [
    {
     "data": {
      "text/html": [
       "<ul></ul>\n"
      ],
      "text/plain": [
       "<IPython.core.display.HTML object>"
      ]
     },
     "metadata": {},
     "output_type": "display_data"
    }
   ],
   "source": [
    "show(Ul(*todos()))"
   ]
  },
  {
   "cell_type": "code",
   "execution_count": 17,
   "metadata": {},
   "outputs": [],
   "source": [
    "@rt(\"/\")\n",
    "def get():\n",
    "    return Titled(\n",
    "        \"Todos\",\n",
    "        Ul(*todos()),\n",
    "    )"
   ]
  },
  {
   "cell_type": "code",
   "execution_count": 18,
   "metadata": {},
   "outputs": [
    {
     "data": {
      "text/html": [
       "\n",
       "<script>\n",
       "document.body.addEventListener('htmx:configRequest', (event) => {\n",
       "    if(event.detail.path.includes('://')) return;\n",
       "    htmx.config.selfRequestsOnly=false;\n",
       "    event.detail.path = `${location.protocol}//${location.hostname}:8000${event.detail.path}`;\n",
       "});\n",
       "</script>"
      ],
      "text/plain": [
       "<IPython.core.display.HTML object>"
      ]
     },
     "metadata": {},
     "output_type": "display_data"
    }
   ],
   "source": [
    "def render(todo):\n",
    "    return Li(todo.title + (\"✅ \" if todo.done else \"\"))\n",
    "\n",
    "\n",
    "app, rt, todos, Todo = fast_app(\n",
    "    \"data/todos.db\",\n",
    "    live=True,\n",
    "    render=render,\n",
    "    id=int,\n",
    "    title=str,\n",
    "    done=bool,\n",
    "    pk=\"id\",\n",
    ")\n",
    "start_server(app)"
   ]
  },
  {
   "cell_type": "markdown",
   "metadata": {},
   "source": [
    "Updating the todos"
   ]
  },
  {
   "cell_type": "code",
   "execution_count": 19,
   "metadata": {},
   "outputs": [
    {
     "data": {
      "text/html": [
       "\n",
       "<script>\n",
       "document.body.addEventListener('htmx:configRequest', (event) => {\n",
       "    if(event.detail.path.includes('://')) return;\n",
       "    htmx.config.selfRequestsOnly=false;\n",
       "    event.detail.path = `${location.protocol}//${location.hostname}:8000${event.detail.path}`;\n",
       "});\n",
       "</script>"
      ],
      "text/plain": [
       "<IPython.core.display.HTML object>"
      ]
     },
     "metadata": {},
     "output_type": "display_data"
    }
   ],
   "source": [
    "def render(todo):\n",
    "    tid = f\"todo-{todo.id}\"\n",
    "    toggle = A(\"Toggle\", hx_get=f\"/toggle/{todo.id}\", target_id=tid)\n",
    "    return Li(\n",
    "        toggle,\n",
    "        todo.title + (\"✅ \" if todo.done else \"\"),\n",
    "        id=tid,\n",
    "    )\n",
    "\n",
    "\n",
    "app, rt, todos, Todo = fast_app(\n",
    "    \"data/todos.db\",\n",
    "    live=True,\n",
    "    render=render,\n",
    "    id=int,\n",
    "    title=str,\n",
    "    done=bool,\n",
    "    pk=\"id\",\n",
    ")\n",
    "start_server(app)"
   ]
  },
  {
   "cell_type": "code",
   "execution_count": 20,
   "metadata": {},
   "outputs": [
    {
     "data": {
      "text/markdown": [
       "```html\n",
       "<ul></ul>\n",
       "\n",
       "```"
      ],
      "text/plain": [
       "ul((),{})"
      ]
     },
     "execution_count": 20,
     "metadata": {},
     "output_type": "execute_result"
    }
   ],
   "source": [
    "Ul(*todos())"
   ]
  },
  {
   "cell_type": "code",
   "execution_count": 21,
   "metadata": {},
   "outputs": [
    {
     "data": {
      "text/html": [
       "<ul></ul>\n"
      ],
      "text/plain": [
       "<IPython.core.display.HTML object>"
      ]
     },
     "metadata": {},
     "output_type": "display_data"
    }
   ],
   "source": [
    "show(Ul(*todos()))"
   ]
  },
  {
   "cell_type": "code",
   "execution_count": 22,
   "metadata": {},
   "outputs": [],
   "source": [
    "@rt(\"/\")\n",
    "def get():\n",
    "    return Titled(\n",
    "        \"Todos\",\n",
    "        Ul(*todos()),\n",
    "    )"
   ]
  },
  {
   "cell_type": "code",
   "execution_count": 23,
   "metadata": {},
   "outputs": [],
   "source": [
    "@rt(\"/toggle/{tid}\")\n",
    "def get(tid: int):\n",
    "    todo = todos[tid]\n",
    "    todo.done = not todo.done\n",
    "    return todos.update(todo)"
   ]
  },
  {
   "cell_type": "markdown",
   "metadata": {},
   "source": [
    "Delete a todo"
   ]
  },
  {
   "cell_type": "code",
   "execution_count": 24,
   "metadata": {},
   "outputs": [],
   "source": [
    "# | export\n",
    "def render(todo):\n",
    "    tid = f\"todo-{todo.id}\"\n",
    "    toggle = A(\"Toggle\", hx_get=f\"/toggle/{todo.id}\", target_id=tid)\n",
    "    delete = A(\"Delete\", hx_delete=f\"/{todo.id}\", target_id=tid, hx_swap=\"outerHTML\")\n",
    "    return Li(\n",
    "        toggle,\n",
    "        delete,\n",
    "        todo.title + (\"✅ \" if todo.done else \"\"),\n",
    "        id=tid,\n",
    "    )\n",
    "\n",
    "\n",
    "app, rt, todos, Todo = fast_app(\n",
    "    \"data/todos.db\",\n",
    "    live=True,\n",
    "    render=render,\n",
    "    id=int,\n",
    "    title=str,\n",
    "    done=bool,\n",
    "    pk=\"id\",\n",
    ")"
   ]
  },
  {
   "cell_type": "code",
   "execution_count": 25,
   "metadata": {},
   "outputs": [
    {
     "data": {
      "text/html": [
       "\n",
       "<script>\n",
       "document.body.addEventListener('htmx:configRequest', (event) => {\n",
       "    if(event.detail.path.includes('://')) return;\n",
       "    htmx.config.selfRequestsOnly=false;\n",
       "    event.detail.path = `${location.protocol}//${location.hostname}:8000${event.detail.path}`;\n",
       "});\n",
       "</script>"
      ],
      "text/plain": [
       "<IPython.core.display.HTML object>"
      ]
     },
     "metadata": {},
     "output_type": "display_data"
    }
   ],
   "source": [
    "start_server(app)"
   ]
  },
  {
   "cell_type": "code",
   "execution_count": 26,
   "metadata": {},
   "outputs": [
    {
     "data": {
      "text/markdown": [
       "```html\n",
       "<ul></ul>\n",
       "\n",
       "```"
      ],
      "text/plain": [
       "ul((),{})"
      ]
     },
     "execution_count": 26,
     "metadata": {},
     "output_type": "execute_result"
    }
   ],
   "source": [
    "Ul(*todos())"
   ]
  },
  {
   "cell_type": "code",
   "execution_count": 27,
   "metadata": {},
   "outputs": [
    {
     "data": {
      "text/html": [
       "<ul></ul>\n"
      ],
      "text/plain": [
       "<IPython.core.display.HTML object>"
      ]
     },
     "metadata": {},
     "output_type": "display_data"
    }
   ],
   "source": [
    "show(Ul(*todos()))"
   ]
  },
  {
   "cell_type": "code",
   "execution_count": 28,
   "metadata": {},
   "outputs": [],
   "source": [
    "@rt(\"/\")\n",
    "def get():\n",
    "    return Titled(\n",
    "        \"Todos\",\n",
    "        Ul(*todos()),\n",
    "    )\n",
    "\n",
    "\n",
    "@rt(\"/toggle/{tid}\")\n",
    "def get(tid: int):\n",
    "    todo = todos[tid]\n",
    "    todo.done = not todo.done\n",
    "    return todos.update(todo)"
   ]
  },
  {
   "cell_type": "code",
   "execution_count": 29,
   "metadata": {},
   "outputs": [],
   "source": [
    "@rt(\"/{tid}\")\n",
    "def delete(tid: int):\n",
    "    todos.delete(tid)"
   ]
  },
  {
   "cell_type": "markdown",
   "metadata": {},
   "source": [
    "Create Todo"
   ]
  },
  {
   "cell_type": "code",
   "execution_count": 30,
   "metadata": {},
   "outputs": [
    {
     "data": {
      "text/html": [
       "<fieldset role=\"group\">  <input placeholder=\"Add a new todo\" name=\"title\">\n",
       "<button>Add</button></fieldset>"
      ],
      "text/plain": [
       "<IPython.core.display.HTML object>"
      ]
     },
     "metadata": {},
     "output_type": "display_data"
    }
   ],
   "source": [
    "# TODO: The output is not displayed as expected, why?\n",
    "# seems like set_pico_cls() function is not working.\n",
    "\n",
    "show(Group(Input(placeholder=\"Add a new todo\", name=\"title\"), Button(\"Add\")))"
   ]
  },
  {
   "cell_type": "code",
   "execution_count": 31,
   "metadata": {},
   "outputs": [
    {
     "data": {
      "text/html": [
       "<div class=\"pico\">\n",
       "<fieldset role=\"group\">    <input placeholder=\"Add a new todo\" name=\"title\">\n",
       "<button>Add</button></fieldset></div>\n"
      ],
      "text/plain": [
       "<IPython.core.display.HTML object>"
      ]
     },
     "metadata": {},
     "output_type": "display_data"
    }
   ],
   "source": [
    "# Thus we are using custom funtion to apply the styling\n",
    "# this function is nothing but a wrapper around the elements with the class 'pico'.\n",
    "show_with_pico(Group(Input(placeholder=\"Add a new todo\", name=\"title\"), Button(\"Add\")))"
   ]
  },
  {
   "cell_type": "code",
   "execution_count": 32,
   "metadata": {},
   "outputs": [
    {
     "data": {
      "text/html": [
       "<div class=\"pico\">\n",
       "  <article>\n",
       "    <header>\n",
       "<form enctype=\"multipart/form-data\" hx-post=\"/\" hx-swap=\"beforeend\" hx-target=\"#todo-list\"><fieldset role=\"group\">          <input placeholder=\"Add a new todo\" name=\"title\">\n",
       "<button>Add</button></fieldset></form>    </header>\n",
       "    <ul></ul>\n",
       "  </article>\n",
       "</div>\n"
      ],
      "text/plain": [
       "<IPython.core.display.HTML object>"
      ]
     },
     "metadata": {},
     "output_type": "display_data"
    }
   ],
   "source": [
    "frm = Form(\n",
    "    Group(Input(placeholder=\"Add a new todo\", name=\"title\"), Button(\"Add\")),\n",
    "    hx_post=\"/\",\n",
    "    target_id=\"todo-list\",\n",
    "    hx_swap=\"beforeend\",\n",
    ")\n",
    "\n",
    "show_with_pico(\n",
    "    Card(\n",
    "        Ul(*todos()),\n",
    "        header=frm,\n",
    "    )\n",
    ")"
   ]
  },
  {
   "cell_type": "code",
   "execution_count": 33,
   "metadata": {},
   "outputs": [],
   "source": [
    "@rt(\"/\")\n",
    "def get():\n",
    "    frm = Form(\n",
    "        Group(Input(placeholder=\"Add a new todo\", name=\"title\"), Button(\"Add\")),\n",
    "        hx_post=\"/\",\n",
    "        target_id=\"todo-list\",\n",
    "        hx_swap=\"beforeend\",\n",
    "    )\n",
    "    return Titled(\n",
    "        \"Todos\",\n",
    "        Card(\n",
    "            Ul(*todos(), id=\"todo-list\"),\n",
    "            header=frm,\n",
    "        ),\n",
    "    )"
   ]
  },
  {
   "cell_type": "code",
   "execution_count": 34,
   "metadata": {},
   "outputs": [],
   "source": [
    "@rt(\"/\")\n",
    "def post(todo: Todo):\n",
    "    return todos.insert(todo)"
   ]
  },
  {
   "cell_type": "markdown",
   "metadata": {},
   "source": [
    "Changing two object at the same time"
   ]
  },
  {
   "cell_type": "code",
   "execution_count": 35,
   "metadata": {},
   "outputs": [],
   "source": [
    "# | export\n",
    "def mk_input():\n",
    "    return Input(placeholder=\"Add a new todo\", id=\"title\", hx_swap_oob=\"true\")"
   ]
  },
  {
   "cell_type": "code",
   "execution_count": 36,
   "metadata": {},
   "outputs": [],
   "source": [
    "# | export\n",
    "@rt(\"/\")\n",
    "def get():\n",
    "    frm = Form(\n",
    "        Group(mk_input(), Button(\"Add\")),\n",
    "        hx_post=\"/\",\n",
    "        target_id=\"todo-list\",\n",
    "        hx_swap=\"beforeend\",\n",
    "    )\n",
    "    return Titled(\n",
    "        \"Todos\",\n",
    "        Card(\n",
    "            Ul(*todos(), id=\"todo-list\"),\n",
    "            header=frm,\n",
    "        ),\n",
    "    )"
   ]
  },
  {
   "cell_type": "code",
   "execution_count": 37,
   "metadata": {},
   "outputs": [],
   "source": [
    "# | export\n",
    "@rt(\"/\")\n",
    "def post(todo: Todo):\n",
    "    return todos.insert(todo), mk_input()"
   ]
  },
  {
   "cell_type": "code",
   "execution_count": 38,
   "metadata": {},
   "outputs": [],
   "source": [
    "# | export\n",
    "@rt(\"/{tid}\")\n",
    "def delete(tid: int):\n",
    "    todos.delete(tid)\n",
    "\n",
    "\n",
    "@rt(\"/toggle/{tid}\")\n",
    "def get(tid: int):\n",
    "    todo = todos[tid]\n",
    "    todo.done = not todo.done\n",
    "    return todos.update(todo)"
   ]
  },
  {
   "cell_type": "code",
   "execution_count": 39,
   "metadata": {},
   "outputs": [
    {
     "data": {
      "text/html": [
       "<a href=\"http://localhost:8000\" target=\"_blank\">Open in new tab</a>"
      ],
      "text/plain": [
       "<IPython.core.display.HTML object>"
      ]
     },
     "metadata": {},
     "output_type": "display_data"
    },
    {
     "data": {
      "text/html": [
       "<iframe src=\"http://localhost:8000\" style=\"width: 100%; height: auto; border: none;\" onload=\"{\n",
       "        let frame = this;\n",
       "        window.addEventListener('message', function(e) {\n",
       "            if (e.source !== frame.contentWindow) return; // Only proceed if the message is from this iframe\n",
       "            if (e.data.height) frame.style.height = (e.data.height+1) + 'px';\n",
       "        }, false);\n",
       "    }\" allow=\"accelerometer; autoplay; camera; clipboard-read; clipboard-write; display-capture; encrypted-media; fullscreen; gamepad; geolocation; gyroscope; hid; identity-credentials-get; idle-detection; magnetometer; microphone; midi; payment; picture-in-picture; publickey-credentials-get; screen-wake-lock; serial; usb; web-share; xr-spatial-tracking\"></iframe> "
      ],
      "text/plain": [
       "<IPython.core.display.HTML object>"
      ]
     },
     "execution_count": 39,
     "metadata": {},
     "output_type": "execute_result"
    }
   ],
   "source": [
    "HTMX(link=True)"
   ]
  },
  {
   "cell_type": "code",
   "execution_count": 40,
   "metadata": {},
   "outputs": [],
   "source": [
    "stop_server()"
   ]
  },
  {
   "cell_type": "code",
   "execution_count": 41,
   "metadata": {},
   "outputs": [],
   "source": [
    "# | export\n",
    "serve()"
   ]
  },
  {
   "cell_type": "code",
   "execution_count": 42,
   "metadata": {},
   "outputs": [],
   "source": [
    "import nbdev\n",
    "\n",
    "nbdev.nbdev_export()"
   ]
  }
 ],
 "metadata": {
  "kernelspec": {
   "display_name": ".venv",
   "language": "python",
   "name": "python3"
  },
  "language_info": {
   "codemirror_mode": {
    "name": "ipython",
    "version": 3
   },
   "file_extension": ".py",
   "mimetype": "text/x-python",
   "name": "python",
   "nbconvert_exporter": "python",
   "pygments_lexer": "ipython3",
   "version": "3.12.3"
  }
 },
 "nbformat": 4,
 "nbformat_minor": 4
}
