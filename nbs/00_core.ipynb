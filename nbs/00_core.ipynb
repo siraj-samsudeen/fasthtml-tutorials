{
 "cells": [
  {
   "cell_type": "markdown",
   "metadata": {},
   "source": [
    "# core\n",
    "\n",
    "> Fill in a module description here\n"
   ]
  },
  {
   "cell_type": "code",
   "execution_count": 6,
   "metadata": {},
   "outputs": [],
   "source": [
    "# | default_exp core"
   ]
  },
  {
   "cell_type": "code",
   "execution_count": 7,
   "metadata": {},
   "outputs": [],
   "source": [
    "# | hide\n",
    "from nbdev.showdoc import *"
   ]
  },
  {
   "cell_type": "markdown",
   "metadata": {},
   "source": [
    "### Utils\n"
   ]
  },
  {
   "cell_type": "markdown",
   "metadata": {},
   "source": [
    "In Jupyter, we want to restart the kernel and Run All to run all the cells. But we need to remember to stop the server before doing Run All, otherwise Port will NOT be free and the server will not be able to start. Hence, we wrote an utility function to check\n",
    "whether the server is in the global namespace and then stop it.\n",
    "\n",
    "Stopping the server takes a bit of time - so, we need to wait for the port to be free. We tried to use `fasthtml.jupyter.wait_port_free()` but this also did not work. Hence, we are doing a hack of just sleeping for 0.1 second, which works for now.\n"
   ]
  },
  {
   "cell_type": "code",
   "execution_count": 9,
   "metadata": {},
   "outputs": [],
   "source": [
    "# | export\n",
    "from fasthtml.jupyter import JupyUvi\n",
    "import time\n",
    "\n",
    "\n",
    "def start_server(app):\n",
    "    global server\n",
    "\n",
    "    if \"server\" in globals():\n",
    "        server.stop()\n",
    "        time.sleep(0.1)\n",
    "    server = JupyUvi(app)\n",
    "\n",
    "\n",
    "def stop_server():\n",
    "    server.stop()"
   ]
  },
  {
   "cell_type": "code",
   "execution_count": 10,
   "metadata": {},
   "outputs": [],
   "source": [
    "# | hide\n",
    "import nbdev\n",
    "\n",
    "nbdev.nbdev_export()"
   ]
  }
 ],
 "metadata": {
  "kernelspec": {
   "display_name": ".venv",
   "language": "python",
   "name": "python3"
  },
  "language_info": {
   "codemirror_mode": {
    "name": "ipython",
    "version": 3
   },
   "file_extension": ".py",
   "mimetype": "text/x-python",
   "name": "python",
   "nbconvert_exporter": "python",
   "pygments_lexer": "ipython3",
   "version": "3.13.1"
  }
 },
 "nbformat": 4,
 "nbformat_minor": 4
}
