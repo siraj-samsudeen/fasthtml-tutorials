{
 "cells": [
  {
   "cell_type": "markdown",
   "metadata": {},
   "source": [
    "# core\n",
    "\n",
    "> Fill in a module description here\n"
   ]
  },
  {
   "cell_type": "code",
   "execution_count": 1,
   "metadata": {},
   "outputs": [],
   "source": [
    "# | default_exp core"
   ]
  },
  {
   "cell_type": "code",
   "execution_count": 2,
   "metadata": {},
   "outputs": [],
   "source": [
    "# | hide\n",
    "from nbdev.showdoc import *"
   ]
  },
  {
   "cell_type": "markdown",
   "metadata": {},
   "source": [
    "### Utils\n"
   ]
  },
  {
   "cell_type": "markdown",
   "metadata": {},
   "source": [
    "In Jupyter, we want to restart the kernel and Run All to run all the cells. But we need to remember to stop the server before doing Run All, otherwise Port will NOT be free and the server will not be able to start. Hence, we wrote an utility function to check\n",
    "whether the server is in the global namespace and then stop it.\n",
    "\n",
    "Stopping the server takes a bit of time - so, we need to wait for the port to be free. We tried to use `fasthtml.jupyter.wait_port_free()` but this also did not work. Hence, we are doing a hack of just sleeping for 0.1 second, which works for now.\n"
   ]
  },
  {
   "cell_type": "code",
   "execution_count": 3,
   "metadata": {},
   "outputs": [],
   "source": [
    "# | export\n",
    "from fasthtml.jupyter import JupyUvi\n",
    "import time\n",
    "\n",
    "\n",
    "def start_server(app):\n",
    "    global server\n",
    "\n",
    "    if \"server\" in globals():\n",
    "        server.stop()\n",
    "        time.sleep(0.1)\n",
    "    server = JupyUvi(app)\n",
    "\n",
    "\n",
    "def stop_server():\n",
    "    server.stop()"
   ]
  },
  {
   "cell_type": "markdown",
   "metadata": {},
   "source": [
    "In Jupyter, we need to run the `show(picocondlink)` in a seperate cell to add styling to the pico components.\n",
    "\n",
    "In order for the pico components to display correctly we need to add \"pico\" as a class to the element and there is a in-build function that does this called `set_pico_cls()` but for some reason it is not working, I've checked this function on the vscode and jupyterlab.\n",
    "\n",
    "Hence, we created our own function that wraps the element in a div with the class \"pico\"."
   ]
  },
  {
   "cell_type": "code",
   "execution_count": 4,
   "metadata": {},
   "outputs": [],
   "source": [
    "# | export\n",
    "from fasthtml.common import *\n",
    "\n",
    "\n",
    "def show_with_pico(*args):\n",
    "    return show(Div(*args, cls=\"pico\"))"
   ]
  },
  {
   "cell_type": "code",
   "execution_count": 5,
   "metadata": {},
   "outputs": [],
   "source": [
    "# | hide\n",
    "import nbdev\n",
    "\n",
    "nbdev.nbdev_export()"
   ]
  }
 ],
 "metadata": {
  "kernelspec": {
   "display_name": ".venv",
   "language": "python",
   "name": "python3"
  },
  "language_info": {
   "codemirror_mode": {
    "name": "ipython",
    "version": 3
   },
   "file_extension": ".py",
   "mimetype": "text/x-python",
   "name": "python",
   "nbconvert_exporter": "python",
   "pygments_lexer": "ipython3",
   "version": "3.12.3"
  }
 },
 "nbformat": 4,
 "nbformat_minor": 4
}
